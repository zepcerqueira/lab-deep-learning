{
 "cells": [
  {
   "cell_type": "markdown",
   "metadata": {},
   "source": [
    "# Challenge 1 - Tic Tac Toe\n",
    "\n",
    "In this lab you will perform deep learning analysis on a dataset of playing [Tic Tac Toe](https://en.wikipedia.org/wiki/Tic-tac-toe).\n",
    "\n",
    "There are 9 grids in Tic Tac Toe that are coded as the following picture shows:\n",
    "\n",
    "![Tic Tac Toe Grids](tttboard.jpg)\n",
    "\n",
    "In the first 9 columns of the dataset you can find which marks (`x` or `o`) exist in the grids. If there is no mark in a certain grid, it is labeled as `b`. The last column is `class` which tells you whether Player X (who always moves first in Tic Tac Toe) wins in this configuration. Note that when `class` has the value `False`, it means either Player O wins the game or it ends up as a draw."
   ]
  },
  {
   "cell_type": "markdown",
   "metadata": {},
   "source": [
    "Follow the steps suggested below to conduct a neural network analysis using Tensorflow and Keras. You will build a deep learning model to predict whether Player X wins the game or not.\n",
    "\n",
    "## Step 1: Data Engineering\n",
    "\n",
    "This dataset is almost in the ready-to-use state so you do not need to worry about missing values and so on. Still, some simple data engineering is needed.\n",
    "\n",
    "1. Read `tic-tac-toe.csv` into a dataframe.\n",
    "1. Inspect the dataset. Determine if the dataset is reliable by eyeballing the data.\n",
    "1. Convert the categorical values to numeric in all columns.\n",
    "1. Separate the inputs and output.\n",
    "1. Normalize the input data."
   ]
  },
  {
   "cell_type": "code",
   "execution_count": 1,
   "metadata": {},
   "outputs": [],
   "source": [
    "# your code here\n",
    "\n",
    "import pandas as pd\n",
    "import numpy as np\n",
    "\n",
    "tic_tac_toe_df = pd.read_csv(\"tic-tac-toe.csv\")"
   ]
  },
  {
   "cell_type": "code",
   "execution_count": 2,
   "metadata": {},
   "outputs": [
    {
     "data": {
      "text/html": [
       "<div>\n",
       "<style scoped>\n",
       "    .dataframe tbody tr th:only-of-type {\n",
       "        vertical-align: middle;\n",
       "    }\n",
       "\n",
       "    .dataframe tbody tr th {\n",
       "        vertical-align: top;\n",
       "    }\n",
       "\n",
       "    .dataframe thead th {\n",
       "        text-align: right;\n",
       "    }\n",
       "</style>\n",
       "<table border=\"1\" class=\"dataframe\">\n",
       "  <thead>\n",
       "    <tr style=\"text-align: right;\">\n",
       "      <th></th>\n",
       "      <th>TL</th>\n",
       "      <th>TM</th>\n",
       "      <th>TR</th>\n",
       "      <th>ML</th>\n",
       "      <th>MM</th>\n",
       "      <th>MR</th>\n",
       "      <th>BL</th>\n",
       "      <th>BM</th>\n",
       "      <th>BR</th>\n",
       "      <th>class</th>\n",
       "    </tr>\n",
       "  </thead>\n",
       "  <tbody>\n",
       "    <tr>\n",
       "      <th>860</th>\n",
       "      <td>o</td>\n",
       "      <td>b</td>\n",
       "      <td>x</td>\n",
       "      <td>o</td>\n",
       "      <td>x</td>\n",
       "      <td>b</td>\n",
       "      <td>o</td>\n",
       "      <td>b</td>\n",
       "      <td>x</td>\n",
       "      <td>False</td>\n",
       "    </tr>\n",
       "    <tr>\n",
       "      <th>357</th>\n",
       "      <td>o</td>\n",
       "      <td>x</td>\n",
       "      <td>b</td>\n",
       "      <td>o</td>\n",
       "      <td>b</td>\n",
       "      <td>o</td>\n",
       "      <td>x</td>\n",
       "      <td>x</td>\n",
       "      <td>x</td>\n",
       "      <td>True</td>\n",
       "    </tr>\n",
       "    <tr>\n",
       "      <th>676</th>\n",
       "      <td>x</td>\n",
       "      <td>o</td>\n",
       "      <td>x</td>\n",
       "      <td>x</td>\n",
       "      <td>o</td>\n",
       "      <td>b</td>\n",
       "      <td>o</td>\n",
       "      <td>o</td>\n",
       "      <td>x</td>\n",
       "      <td>False</td>\n",
       "    </tr>\n",
       "    <tr>\n",
       "      <th>308</th>\n",
       "      <td>o</td>\n",
       "      <td>x</td>\n",
       "      <td>x</td>\n",
       "      <td>o</td>\n",
       "      <td>b</td>\n",
       "      <td>x</td>\n",
       "      <td>b</td>\n",
       "      <td>o</td>\n",
       "      <td>x</td>\n",
       "      <td>True</td>\n",
       "    </tr>\n",
       "    <tr>\n",
       "      <th>544</th>\n",
       "      <td>b</td>\n",
       "      <td>o</td>\n",
       "      <td>x</td>\n",
       "      <td>o</td>\n",
       "      <td>o</td>\n",
       "      <td>x</td>\n",
       "      <td>b</td>\n",
       "      <td>x</td>\n",
       "      <td>x</td>\n",
       "      <td>True</td>\n",
       "    </tr>\n",
       "  </tbody>\n",
       "</table>\n",
       "</div>"
      ],
      "text/plain": [
       "    TL TM TR ML MM MR BL BM BR  class\n",
       "860  o  b  x  o  x  b  o  b  x  False\n",
       "357  o  x  b  o  b  o  x  x  x   True\n",
       "676  x  o  x  x  o  b  o  o  x  False\n",
       "308  o  x  x  o  b  x  b  o  x   True\n",
       "544  b  o  x  o  o  x  b  x  x   True"
      ]
     },
     "execution_count": 2,
     "metadata": {},
     "output_type": "execute_result"
    }
   ],
   "source": [
    "tic_tac_toe_df.sample(5)"
   ]
  },
  {
   "cell_type": "code",
   "execution_count": 3,
   "metadata": {},
   "outputs": [
    {
     "name": "stdout",
     "output_type": "stream",
     "text": [
      "<class 'pandas.core.frame.DataFrame'>\n",
      "RangeIndex: 958 entries, 0 to 957\n",
      "Data columns (total 10 columns):\n",
      " #   Column  Non-Null Count  Dtype \n",
      "---  ------  --------------  ----- \n",
      " 0   TL      958 non-null    object\n",
      " 1   TM      958 non-null    object\n",
      " 2   TR      958 non-null    object\n",
      " 3   ML      958 non-null    object\n",
      " 4   MM      958 non-null    object\n",
      " 5   MR      958 non-null    object\n",
      " 6   BL      958 non-null    object\n",
      " 7   BM      958 non-null    object\n",
      " 8   BR      958 non-null    object\n",
      " 9   class   958 non-null    bool  \n",
      "dtypes: bool(1), object(9)\n",
      "memory usage: 68.4+ KB\n"
     ]
    }
   ],
   "source": [
    "tic_tac_toe_df.info()"
   ]
  },
  {
   "cell_type": "code",
   "execution_count": 4,
   "metadata": {},
   "outputs": [
    {
     "data": {
      "text/html": [
       "<div>\n",
       "<style scoped>\n",
       "    .dataframe tbody tr th:only-of-type {\n",
       "        vertical-align: middle;\n",
       "    }\n",
       "\n",
       "    .dataframe tbody tr th {\n",
       "        vertical-align: top;\n",
       "    }\n",
       "\n",
       "    .dataframe thead th {\n",
       "        text-align: right;\n",
       "    }\n",
       "</style>\n",
       "<table border=\"1\" class=\"dataframe\">\n",
       "  <thead>\n",
       "    <tr style=\"text-align: right;\">\n",
       "      <th></th>\n",
       "      <th>TL</th>\n",
       "      <th>TM</th>\n",
       "      <th>TR</th>\n",
       "      <th>ML</th>\n",
       "      <th>MM</th>\n",
       "      <th>MR</th>\n",
       "      <th>BL</th>\n",
       "      <th>BM</th>\n",
       "      <th>BR</th>\n",
       "      <th>class</th>\n",
       "    </tr>\n",
       "  </thead>\n",
       "  <tbody>\n",
       "    <tr>\n",
       "      <th>690</th>\n",
       "      <td>1</td>\n",
       "      <td>2</td>\n",
       "      <td>2</td>\n",
       "      <td>1</td>\n",
       "      <td>1</td>\n",
       "      <td>2</td>\n",
       "      <td>0</td>\n",
       "      <td>1</td>\n",
       "      <td>2</td>\n",
       "      <td>False</td>\n",
       "    </tr>\n",
       "    <tr>\n",
       "      <th>303</th>\n",
       "      <td>2</td>\n",
       "      <td>1</td>\n",
       "      <td>1</td>\n",
       "      <td>2</td>\n",
       "      <td>1</td>\n",
       "      <td>0</td>\n",
       "      <td>1</td>\n",
       "      <td>2</td>\n",
       "      <td>0</td>\n",
       "      <td>True</td>\n",
       "    </tr>\n",
       "    <tr>\n",
       "      <th>911</th>\n",
       "      <td>0</td>\n",
       "      <td>1</td>\n",
       "      <td>0</td>\n",
       "      <td>2</td>\n",
       "      <td>2</td>\n",
       "      <td>2</td>\n",
       "      <td>1</td>\n",
       "      <td>0</td>\n",
       "      <td>1</td>\n",
       "      <td>False</td>\n",
       "    </tr>\n",
       "    <tr>\n",
       "      <th>840</th>\n",
       "      <td>2</td>\n",
       "      <td>2</td>\n",
       "      <td>2</td>\n",
       "      <td>0</td>\n",
       "      <td>1</td>\n",
       "      <td>1</td>\n",
       "      <td>0</td>\n",
       "      <td>0</td>\n",
       "      <td>1</td>\n",
       "      <td>False</td>\n",
       "    </tr>\n",
       "    <tr>\n",
       "      <th>759</th>\n",
       "      <td>2</td>\n",
       "      <td>1</td>\n",
       "      <td>1</td>\n",
       "      <td>2</td>\n",
       "      <td>2</td>\n",
       "      <td>2</td>\n",
       "      <td>0</td>\n",
       "      <td>1</td>\n",
       "      <td>1</td>\n",
       "      <td>False</td>\n",
       "    </tr>\n",
       "  </tbody>\n",
       "</table>\n",
       "</div>"
      ],
      "text/plain": [
       "     TL  TM  TR  ML  MM  MR  BL  BM  BR  class\n",
       "690   1   2   2   1   1   2   0   1   2  False\n",
       "303   2   1   1   2   1   0   1   2   0   True\n",
       "911   0   1   0   2   2   2   1   0   1  False\n",
       "840   2   2   2   0   1   1   0   0   1  False\n",
       "759   2   1   1   2   2   2   0   1   1  False"
      ]
     },
     "execution_count": 4,
     "metadata": {},
     "output_type": "execute_result"
    }
   ],
   "source": [
    "tic_tac_toe_df.replace(\"x\", 1, inplace=True)\n",
    "tic_tac_toe_df.replace(\"o\", 2, inplace=True)\n",
    "tic_tac_toe_df.replace(\"b\", 0, inplace=True)\n",
    "tic_tac_toe_df.sample(5)"
   ]
  },
  {
   "cell_type": "code",
   "execution_count": 5,
   "metadata": {},
   "outputs": [],
   "source": [
    "tic_tac_toe_df.replace(True, 1, inplace=True)\n",
    "tic_tac_toe_df.replace(False, 2, inplace=True)"
   ]
  },
  {
   "cell_type": "code",
   "execution_count": 6,
   "metadata": {},
   "outputs": [
    {
     "data": {
      "text/html": [
       "<div>\n",
       "<style scoped>\n",
       "    .dataframe tbody tr th:only-of-type {\n",
       "        vertical-align: middle;\n",
       "    }\n",
       "\n",
       "    .dataframe tbody tr th {\n",
       "        vertical-align: top;\n",
       "    }\n",
       "\n",
       "    .dataframe thead th {\n",
       "        text-align: right;\n",
       "    }\n",
       "</style>\n",
       "<table border=\"1\" class=\"dataframe\">\n",
       "  <thead>\n",
       "    <tr style=\"text-align: right;\">\n",
       "      <th></th>\n",
       "      <th>TL</th>\n",
       "      <th>TM</th>\n",
       "      <th>TR</th>\n",
       "      <th>ML</th>\n",
       "      <th>MM</th>\n",
       "      <th>MR</th>\n",
       "      <th>BL</th>\n",
       "      <th>BM</th>\n",
       "      <th>BR</th>\n",
       "      <th>class</th>\n",
       "    </tr>\n",
       "  </thead>\n",
       "  <tbody>\n",
       "    <tr>\n",
       "      <th>580</th>\n",
       "      <td>0</td>\n",
       "      <td>2</td>\n",
       "      <td>0</td>\n",
       "      <td>1</td>\n",
       "      <td>1</td>\n",
       "      <td>1</td>\n",
       "      <td>0</td>\n",
       "      <td>2</td>\n",
       "      <td>0</td>\n",
       "      <td>1</td>\n",
       "    </tr>\n",
       "    <tr>\n",
       "      <th>890</th>\n",
       "      <td>0</td>\n",
       "      <td>1</td>\n",
       "      <td>1</td>\n",
       "      <td>0</td>\n",
       "      <td>0</td>\n",
       "      <td>1</td>\n",
       "      <td>2</td>\n",
       "      <td>2</td>\n",
       "      <td>2</td>\n",
       "      <td>2</td>\n",
       "    </tr>\n",
       "    <tr>\n",
       "      <th>759</th>\n",
       "      <td>2</td>\n",
       "      <td>1</td>\n",
       "      <td>1</td>\n",
       "      <td>2</td>\n",
       "      <td>2</td>\n",
       "      <td>2</td>\n",
       "      <td>0</td>\n",
       "      <td>1</td>\n",
       "      <td>1</td>\n",
       "      <td>2</td>\n",
       "    </tr>\n",
       "    <tr>\n",
       "      <th>173</th>\n",
       "      <td>1</td>\n",
       "      <td>2</td>\n",
       "      <td>2</td>\n",
       "      <td>2</td>\n",
       "      <td>1</td>\n",
       "      <td>2</td>\n",
       "      <td>1</td>\n",
       "      <td>1</td>\n",
       "      <td>1</td>\n",
       "      <td>1</td>\n",
       "    </tr>\n",
       "    <tr>\n",
       "      <th>518</th>\n",
       "      <td>0</td>\n",
       "      <td>1</td>\n",
       "      <td>0</td>\n",
       "      <td>2</td>\n",
       "      <td>1</td>\n",
       "      <td>2</td>\n",
       "      <td>1</td>\n",
       "      <td>1</td>\n",
       "      <td>2</td>\n",
       "      <td>1</td>\n",
       "    </tr>\n",
       "  </tbody>\n",
       "</table>\n",
       "</div>"
      ],
      "text/plain": [
       "     TL  TM  TR  ML  MM  MR  BL  BM  BR  class\n",
       "580   0   2   0   1   1   1   0   2   0      1\n",
       "890   0   1   1   0   0   1   2   2   2      2\n",
       "759   2   1   1   2   2   2   0   1   1      2\n",
       "173   1   2   2   2   1   2   1   1   1      1\n",
       "518   0   1   0   2   1   2   1   1   2      1"
      ]
     },
     "execution_count": 6,
     "metadata": {},
     "output_type": "execute_result"
    }
   ],
   "source": [
    "tic_tac_toe_df.sample(5)"
   ]
  },
  {
   "cell_type": "code",
   "execution_count": 7,
   "metadata": {},
   "outputs": [],
   "source": [
    "X = tic_tac_toe_df[[\"TL\", \"TM\", \"TR\", \"ML\", \"MM\", \"MR\", \"BL\", \"BM\", \"BR\"]]\n",
    "Y = tic_tac_toe_df[\"class\"]"
   ]
  },
  {
   "cell_type": "code",
   "execution_count": 8,
   "metadata": {},
   "outputs": [],
   "source": [
    "from sklearn.preprocessing import StandardScaler\n",
    "\n",
    "scaler = StandardScaler()\n",
    "X_ = scaler.fit_transform(X)"
   ]
  },
  {
   "cell_type": "code",
   "execution_count": 9,
   "metadata": {},
   "outputs": [
    {
     "data": {
      "text/html": [
       "<div>\n",
       "<style scoped>\n",
       "    .dataframe tbody tr th:only-of-type {\n",
       "        vertical-align: middle;\n",
       "    }\n",
       "\n",
       "    .dataframe tbody tr th {\n",
       "        vertical-align: top;\n",
       "    }\n",
       "\n",
       "    .dataframe thead th {\n",
       "        text-align: right;\n",
       "    }\n",
       "</style>\n",
       "<table border=\"1\" class=\"dataframe\">\n",
       "  <thead>\n",
       "    <tr style=\"text-align: right;\">\n",
       "      <th></th>\n",
       "      <th>0</th>\n",
       "      <th>1</th>\n",
       "      <th>2</th>\n",
       "      <th>3</th>\n",
       "      <th>4</th>\n",
       "      <th>5</th>\n",
       "      <th>6</th>\n",
       "      <th>7</th>\n",
       "      <th>8</th>\n",
       "    </tr>\n",
       "  </thead>\n",
       "  <tbody>\n",
       "    <tr>\n",
       "      <th>0</th>\n",
       "      <td>-0.183771</td>\n",
       "      <td>-0.107947</td>\n",
       "      <td>-0.183771</td>\n",
       "      <td>-0.107947</td>\n",
       "      <td>1.164180</td>\n",
       "      <td>1.184714</td>\n",
       "      <td>-0.183771</td>\n",
       "      <td>1.184714</td>\n",
       "      <td>1.170477</td>\n",
       "    </tr>\n",
       "    <tr>\n",
       "      <th>1</th>\n",
       "      <td>-0.183771</td>\n",
       "      <td>-0.107947</td>\n",
       "      <td>-0.183771</td>\n",
       "      <td>-0.107947</td>\n",
       "      <td>1.164180</td>\n",
       "      <td>1.184714</td>\n",
       "      <td>1.170477</td>\n",
       "      <td>-0.107947</td>\n",
       "      <td>1.170477</td>\n",
       "    </tr>\n",
       "    <tr>\n",
       "      <th>2</th>\n",
       "      <td>-0.183771</td>\n",
       "      <td>-0.107947</td>\n",
       "      <td>-0.183771</td>\n",
       "      <td>-0.107947</td>\n",
       "      <td>1.164180</td>\n",
       "      <td>1.184714</td>\n",
       "      <td>1.170477</td>\n",
       "      <td>1.184714</td>\n",
       "      <td>-0.183771</td>\n",
       "    </tr>\n",
       "    <tr>\n",
       "      <th>3</th>\n",
       "      <td>-0.183771</td>\n",
       "      <td>-0.107947</td>\n",
       "      <td>-0.183771</td>\n",
       "      <td>-0.107947</td>\n",
       "      <td>1.164180</td>\n",
       "      <td>1.184714</td>\n",
       "      <td>1.170477</td>\n",
       "      <td>-1.400607</td>\n",
       "      <td>-1.538019</td>\n",
       "    </tr>\n",
       "    <tr>\n",
       "      <th>4</th>\n",
       "      <td>-0.183771</td>\n",
       "      <td>-0.107947</td>\n",
       "      <td>-0.183771</td>\n",
       "      <td>-0.107947</td>\n",
       "      <td>1.164180</td>\n",
       "      <td>1.184714</td>\n",
       "      <td>-1.538019</td>\n",
       "      <td>1.184714</td>\n",
       "      <td>-1.538019</td>\n",
       "    </tr>\n",
       "    <tr>\n",
       "      <th>...</th>\n",
       "      <td>...</td>\n",
       "      <td>...</td>\n",
       "      <td>...</td>\n",
       "      <td>...</td>\n",
       "      <td>...</td>\n",
       "      <td>...</td>\n",
       "      <td>...</td>\n",
       "      <td>...</td>\n",
       "      <td>...</td>\n",
       "    </tr>\n",
       "    <tr>\n",
       "      <th>953</th>\n",
       "      <td>1.170477</td>\n",
       "      <td>-0.107947</td>\n",
       "      <td>-0.183771</td>\n",
       "      <td>-0.107947</td>\n",
       "      <td>1.164180</td>\n",
       "      <td>1.184714</td>\n",
       "      <td>1.170477</td>\n",
       "      <td>-0.107947</td>\n",
       "      <td>-0.183771</td>\n",
       "    </tr>\n",
       "    <tr>\n",
       "      <th>954</th>\n",
       "      <td>1.170477</td>\n",
       "      <td>-0.107947</td>\n",
       "      <td>1.170477</td>\n",
       "      <td>-0.107947</td>\n",
       "      <td>-0.269348</td>\n",
       "      <td>1.184714</td>\n",
       "      <td>-0.183771</td>\n",
       "      <td>1.184714</td>\n",
       "      <td>-0.183771</td>\n",
       "    </tr>\n",
       "    <tr>\n",
       "      <th>955</th>\n",
       "      <td>1.170477</td>\n",
       "      <td>-0.107947</td>\n",
       "      <td>1.170477</td>\n",
       "      <td>-0.107947</td>\n",
       "      <td>1.164180</td>\n",
       "      <td>-0.107947</td>\n",
       "      <td>-0.183771</td>\n",
       "      <td>1.184714</td>\n",
       "      <td>-0.183771</td>\n",
       "    </tr>\n",
       "    <tr>\n",
       "      <th>956</th>\n",
       "      <td>1.170477</td>\n",
       "      <td>-0.107947</td>\n",
       "      <td>1.170477</td>\n",
       "      <td>1.184714</td>\n",
       "      <td>-0.269348</td>\n",
       "      <td>-0.107947</td>\n",
       "      <td>-0.183771</td>\n",
       "      <td>1.184714</td>\n",
       "      <td>-0.183771</td>\n",
       "    </tr>\n",
       "    <tr>\n",
       "      <th>957</th>\n",
       "      <td>1.170477</td>\n",
       "      <td>1.184714</td>\n",
       "      <td>-0.183771</td>\n",
       "      <td>-0.107947</td>\n",
       "      <td>-0.269348</td>\n",
       "      <td>1.184714</td>\n",
       "      <td>1.170477</td>\n",
       "      <td>-0.107947</td>\n",
       "      <td>-0.183771</td>\n",
       "    </tr>\n",
       "  </tbody>\n",
       "</table>\n",
       "<p>958 rows × 9 columns</p>\n",
       "</div>"
      ],
      "text/plain": [
       "            0         1         2         3         4         5         6  \\\n",
       "0   -0.183771 -0.107947 -0.183771 -0.107947  1.164180  1.184714 -0.183771   \n",
       "1   -0.183771 -0.107947 -0.183771 -0.107947  1.164180  1.184714  1.170477   \n",
       "2   -0.183771 -0.107947 -0.183771 -0.107947  1.164180  1.184714  1.170477   \n",
       "3   -0.183771 -0.107947 -0.183771 -0.107947  1.164180  1.184714  1.170477   \n",
       "4   -0.183771 -0.107947 -0.183771 -0.107947  1.164180  1.184714 -1.538019   \n",
       "..        ...       ...       ...       ...       ...       ...       ...   \n",
       "953  1.170477 -0.107947 -0.183771 -0.107947  1.164180  1.184714  1.170477   \n",
       "954  1.170477 -0.107947  1.170477 -0.107947 -0.269348  1.184714 -0.183771   \n",
       "955  1.170477 -0.107947  1.170477 -0.107947  1.164180 -0.107947 -0.183771   \n",
       "956  1.170477 -0.107947  1.170477  1.184714 -0.269348 -0.107947 -0.183771   \n",
       "957  1.170477  1.184714 -0.183771 -0.107947 -0.269348  1.184714  1.170477   \n",
       "\n",
       "            7         8  \n",
       "0    1.184714  1.170477  \n",
       "1   -0.107947  1.170477  \n",
       "2    1.184714 -0.183771  \n",
       "3   -1.400607 -1.538019  \n",
       "4    1.184714 -1.538019  \n",
       "..        ...       ...  \n",
       "953 -0.107947 -0.183771  \n",
       "954  1.184714 -0.183771  \n",
       "955  1.184714 -0.183771  \n",
       "956  1.184714 -0.183771  \n",
       "957 -0.107947 -0.183771  \n",
       "\n",
       "[958 rows x 9 columns]"
      ]
     },
     "execution_count": 9,
     "metadata": {},
     "output_type": "execute_result"
    }
   ],
   "source": [
    "X = pd.DataFrame(X_)\n",
    "X"
   ]
  },
  {
   "cell_type": "markdown",
   "metadata": {},
   "source": [
    "## Step 2: Build Neural Network\n",
    "\n",
    "To build the neural network, you can refer to your own codes you wrote while following the [Deep Learning with Python, TensorFlow, and Keras tutorial](https://www.youtube.com/watch?v=wQ8BIBpya2k) in the lesson. It's pretty similar to what you will be doing in this lab.\n",
    "\n",
    "1. Split the training and test data.\n",
    "1. Create a `Sequential` model.\n",
    "1. Add several layers to your model. Make sure you use ReLU as the activation function for the middle layers. Use Softmax for the output layer because each output has a single lable and all the label probabilities add up to 1.\n",
    "1. Compile the model using `adam` as the optimizer and `sparse_categorical_crossentropy` as the loss function. For metrics, use `accuracy` for now.\n",
    "1. Fit the training data.\n",
    "1. Evaluate your neural network model with the test data.\n",
    "1. Save your model as `tic-tac-toe.model`."
   ]
  },
  {
   "cell_type": "code",
   "execution_count": 10,
   "metadata": {},
   "outputs": [],
   "source": [
    "#!pip install --upgrade tensorflow"
   ]
  },
  {
   "cell_type": "code",
   "execution_count": 11,
   "metadata": {},
   "outputs": [
    {
     "name": "stderr",
     "output_type": "stream",
     "text": [
      "2024-01-06 17:25:23.214689: I tensorflow/core/platform/cpu_feature_guard.cc:182] This TensorFlow binary is optimized to use available CPU instructions in performance-critical operations.\n",
      "To enable the following instructions: AVX2 FMA, in other operations, rebuild TensorFlow with the appropriate compiler flags.\n"
     ]
    }
   ],
   "source": [
    "# your code here\n",
    "\n",
    "import tensorflow as tf \n",
    "from sklearn.model_selection import train_test_split\n",
    "\n",
    "X_train, X_test, y_train, y_test = train_test_split(X, Y, test_size=0.2, random_state=1)\n"
   ]
  },
  {
   "cell_type": "code",
   "execution_count": 12,
   "metadata": {},
   "outputs": [],
   "source": [
    "model_seq = tf.keras.models.Sequential()"
   ]
  },
  {
   "cell_type": "code",
   "execution_count": 13,
   "metadata": {},
   "outputs": [],
   "source": [
    "model_seq.add(tf.keras.layers.Flatten())"
   ]
  },
  {
   "cell_type": "code",
   "execution_count": 14,
   "metadata": {},
   "outputs": [],
   "source": [
    "model_seq.add(tf.keras.layers.Dense(128, activation=tf.nn.relu))\n",
    "model_seq.add(tf.keras.layers.Dense(128, activation=tf.nn.relu))\n",
    "#model_seq.add(tf.keras.layers.Dense(64, activation=tf.nn.relu))\n",
    "#model_seq.add(tf.keras.layers.Dense(32, activation=tf.nn.relu))\n",
    "#model_seq.add(tf.keras.layers.Dense(16, activation=tf.nn.relu))\n",
    "#model_seq.add(tf.keras.layers.Dense(8, activation=tf.nn.relu))\n",
    "#model_seq.add(tf.keras.layers.Dense(4, activation=tf.nn.relu))\n",
    "#model_seq.add(tf.keras.layers.Dense(2, activation=tf.nn.relu))\n",
    "model_seq.add(tf.keras.layers.Dense(10, activation=tf.nn.softmax))"
   ]
  },
  {
   "cell_type": "code",
   "execution_count": 15,
   "metadata": {},
   "outputs": [],
   "source": [
    "custom_optimizer = tf.keras.optimizers.Adam()\n",
    "custom_optimizer.lr.assign(0.005)\n",
    "\n",
    "model_seq.compile(custom_optimizer,\n",
    "                  loss=\"sparse_categorical_crossentropy\",\n",
    "                  metrics=[\"accuracy\"])\n",
    "\n"
   ]
  },
  {
   "cell_type": "code",
   "execution_count": 16,
   "metadata": {},
   "outputs": [
    {
     "name": "stdout",
     "output_type": "stream",
     "text": [
      "Epoch 1/25\n",
      "24/24 [==============================] - 1s 2ms/step - loss: 0.7679 - accuracy: 0.6932\n",
      "Epoch 2/25\n",
      "24/24 [==============================] - 0s 1ms/step - loss: 0.4887 - accuracy: 0.7415\n",
      "Epoch 3/25\n",
      "24/24 [==============================] - 0s 1ms/step - loss: 0.4061 - accuracy: 0.7977\n",
      "Epoch 4/25\n",
      "24/24 [==============================] - 0s 1ms/step - loss: 0.3921 - accuracy: 0.8016\n",
      "Epoch 5/25\n",
      "24/24 [==============================] - 0s 3ms/step - loss: 0.2992 - accuracy: 0.8708\n",
      "Epoch 6/25\n",
      "24/24 [==============================] - 0s 1ms/step - loss: 0.2615 - accuracy: 0.8851\n",
      "Epoch 7/25\n",
      "24/24 [==============================] - 0s 1ms/step - loss: 0.2132 - accuracy: 0.9151\n",
      "Epoch 8/25\n",
      "24/24 [==============================] - 0s 2ms/step - loss: 0.1836 - accuracy: 0.9256\n",
      "Epoch 9/25\n",
      "24/24 [==============================] - 0s 1ms/step - loss: 0.1396 - accuracy: 0.9478\n",
      "Epoch 10/25\n",
      "24/24 [==============================] - 0s 1ms/step - loss: 0.0974 - accuracy: 0.9726\n",
      "Epoch 11/25\n",
      "24/24 [==============================] - 0s 1ms/step - loss: 0.0747 - accuracy: 0.9791\n",
      "Epoch 12/25\n",
      "24/24 [==============================] - 0s 1ms/step - loss: 0.0518 - accuracy: 0.9883\n",
      "Epoch 13/25\n",
      "24/24 [==============================] - 0s 1ms/step - loss: 0.0426 - accuracy: 0.9935\n",
      "Epoch 14/25\n",
      "24/24 [==============================] - 0s 1ms/step - loss: 0.0310 - accuracy: 0.9961\n",
      "Epoch 15/25\n",
      "24/24 [==============================] - 0s 1ms/step - loss: 0.0239 - accuracy: 1.0000\n",
      "Epoch 16/25\n",
      "24/24 [==============================] - 0s 1ms/step - loss: 0.0189 - accuracy: 1.0000\n",
      "Epoch 17/25\n",
      "24/24 [==============================] - 0s 1ms/step - loss: 0.0150 - accuracy: 1.0000\n",
      "Epoch 18/25\n",
      "24/24 [==============================] - 0s 1ms/step - loss: 0.0114 - accuracy: 1.0000\n",
      "Epoch 19/25\n",
      "24/24 [==============================] - 0s 1ms/step - loss: 0.0091 - accuracy: 1.0000\n",
      "Epoch 20/25\n",
      "24/24 [==============================] - 0s 1ms/step - loss: 0.0077 - accuracy: 1.0000\n",
      "Epoch 21/25\n",
      "24/24 [==============================] - 0s 1ms/step - loss: 0.0062 - accuracy: 1.0000\n",
      "Epoch 22/25\n",
      "24/24 [==============================] - 0s 1ms/step - loss: 0.0054 - accuracy: 1.0000\n",
      "Epoch 23/25\n",
      "24/24 [==============================] - 0s 1ms/step - loss: 0.0047 - accuracy: 1.0000\n",
      "Epoch 24/25\n",
      "24/24 [==============================] - 0s 1ms/step - loss: 0.0042 - accuracy: 1.0000\n",
      "Epoch 25/25\n",
      "24/24 [==============================] - 0s 1ms/step - loss: 0.0038 - accuracy: 1.0000\n"
     ]
    },
    {
     "data": {
      "text/plain": [
       "<keras.src.callbacks.History at 0x154943410>"
      ]
     },
     "execution_count": 16,
     "metadata": {},
     "output_type": "execute_result"
    }
   ],
   "source": [
    "model_seq.fit(X_train, y_train, epochs=25)"
   ]
  },
  {
   "cell_type": "code",
   "execution_count": 17,
   "metadata": {},
   "outputs": [
    {
     "name": "stdout",
     "output_type": "stream",
     "text": [
      "6/6 [==============================] - 0s 2ms/step - loss: 0.1103 - accuracy: 0.9531\n",
      "Val_loss: 0.11033708602190018\n",
      "Val_acc: 0.953125\n"
     ]
    }
   ],
   "source": [
    "val_loss, val_acc = model_seq.evaluate(X_test, y_test)\n",
    "\n",
    "print(\"Val_loss:\", val_loss)\n",
    "print(\"Val_acc:\", val_acc)"
   ]
  },
  {
   "cell_type": "code",
   "execution_count": 18,
   "metadata": {},
   "outputs": [
    {
     "name": "stdout",
     "output_type": "stream",
     "text": [
      "INFO:tensorflow:Assets written to: tic-tac-toe.model/assets\n"
     ]
    },
    {
     "name": "stderr",
     "output_type": "stream",
     "text": [
      "INFO:tensorflow:Assets written to: tic-tac-toe.model/assets\n"
     ]
    }
   ],
   "source": [
    "model_seq.save(\"tic-tac-toe.model\")"
   ]
  },
  {
   "cell_type": "markdown",
   "metadata": {},
   "source": [
    "## Step 3: Make Predictions\n",
    "\n",
    "Now load your saved model and use it to make predictions on a few random rows in the test dataset. Check if the predictions are correct."
   ]
  },
  {
   "cell_type": "code",
   "execution_count": 19,
   "metadata": {},
   "outputs": [],
   "source": [
    "# your code here\n",
    "\n",
    "import random\n",
    "\n",
    "new_model = tf.keras.models.load_model(\"tic-tac-toe.model\")"
   ]
  },
  {
   "cell_type": "code",
   "execution_count": 20,
   "metadata": {},
   "outputs": [
    {
     "name": "stdout",
     "output_type": "stream",
     "text": [
      "6/6 [==============================] - 0s 1ms/step\n"
     ]
    }
   ],
   "source": [
    "predictions = new_model.predict([X_test])\n"
   ]
  },
  {
   "cell_type": "code",
   "execution_count": 21,
   "metadata": {},
   "outputs": [
    {
     "name": "stdout",
     "output_type": "stream",
     "text": [
      "51\n"
     ]
    }
   ],
   "source": [
    "print(np.argmax(predictions))"
   ]
  },
  {
   "cell_type": "code",
   "execution_count": 22,
   "metadata": {},
   "outputs": [
    {
     "name": "stdout",
     "output_type": "stream",
     "text": [
      "6/6 [==============================] - 0s 2ms/step\n"
     ]
    }
   ],
   "source": [
    "pred = new_model.predict([X_test])\n",
    "pred = [np.argmax(res) for res in pred ]\n"
   ]
  },
  {
   "cell_type": "code",
   "execution_count": 23,
   "metadata": {},
   "outputs": [
    {
     "data": {
      "text/plain": [
       "0.953125"
      ]
     },
     "execution_count": 23,
     "metadata": {},
     "output_type": "execute_result"
    }
   ],
   "source": [
    "from sklearn.metrics import accuracy_score\n",
    "\n",
    "accuracy_score(y_test, pred)\n"
   ]
  },
  {
   "cell_type": "markdown",
   "metadata": {},
   "source": [
    "## Step 4: Improve Your Model\n",
    "\n",
    "Did your model achieve low loss (<0.1) and high accuracy (>0.95)? If not, try to improve your model.\n",
    "\n",
    "But how? There are so many things you can play with in Tensorflow and in the next challenge you'll learn about these things. But in this challenge, let's just do a few things to see if they will help.\n",
    "\n",
    "* Add more layers to your model. If the data are complex you need more layers. But don't use more layers than you need. If adding more layers does not improve the model performance you don't need additional layers.\n",
    "* Adjust the learning rate when you compile the model. This means you will create a custom `tf.keras.optimizers.Adam` instance where you specify the learning rate you want. Then pass the instance to `model.compile` as the optimizer.\n",
    "    * `tf.keras.optimizers.Adam` [reference](https://www.tensorflow.org/api_docs/python/tf/keras/optimizers/Adam).\n",
    "    * Don't worry if you don't understand what the learning rate does. You'll learn about it in the next challenge.\n",
    "* Adjust the number of epochs when you fit the training data to the model. Your model performance continues to improve as you train more epochs. But eventually it will reach the ceiling and the performance will stay the same."
   ]
  },
  {
   "cell_type": "code",
   "execution_count": 24,
   "metadata": {},
   "outputs": [],
   "source": [
    "# your code here"
   ]
  },
  {
   "cell_type": "markdown",
   "metadata": {},
   "source": [
    "**Which approach(es) did you find helpful to improve your model performance?**"
   ]
  },
  {
   "cell_type": "code",
   "execution_count": 26,
   "metadata": {},
   "outputs": [],
   "source": [
    "# your answer here\n",
    "\n",
    "#I added more layers but only decreased the accuracy. The learning rate was \n",
    "#more of an improvement."
   ]
  }
 ],
 "metadata": {
  "kernelspec": {
   "display_name": "Python 3",
   "language": "python",
   "name": "python3"
  },
  "language_info": {
   "codemirror_mode": {
    "name": "ipython",
    "version": 3
   },
   "file_extension": ".py",
   "mimetype": "text/x-python",
   "name": "python",
   "nbconvert_exporter": "python",
   "pygments_lexer": "ipython3",
   "version": "3.11.3"
  }
 },
 "nbformat": 4,
 "nbformat_minor": 2
}
